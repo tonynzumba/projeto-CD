{
 "cells": [
  {
   "cell_type": "code",
   "execution_count": 5,
   "metadata": {},
   "outputs": [
    {
     "name": "stdout",
     "output_type": "stream",
     "text": [
      "Indivíduo do sexo masculino\n"
     ]
    }
   ],
   "source": [
    "# exercicio 1\n",
    "# Definindo as variáveis sexo e beta_hcg\n",
    "sexo = 'M'\n",
    "beta_hcg = 0\n",
    "\n",
    "# Verificando se é indivíduo do sexo masculino\n",
    "if sexo == 'M':\n",
    "    print('Indivíduo do sexo masculino')\n",
    "# Caso contrário, verificando se a paciente está grávida\n",
    "else:\n",
    "    if beta_hcg > 5:\n",
    "        print('Positivo')\n",
    "    else:\n",
    "        print('Negativo')\n"
   ]
  },
  {
   "cell_type": "code",
   "execution_count": 7,
   "metadata": {},
   "outputs": [
    {
     "data": {
      "text/plain": [
       "{'name': 'nome', 'age': 'idade', 'income': 'renda'}"
      ]
     },
     "execution_count": 7,
     "metadata": {},
     "output_type": "execute_result"
    }
   ],
   "source": [
    "# exercicio 2\n",
    "dic_renomear = {'name':'nome', 'age':'idade', 'income':'renda'}\n",
    "dic_renomear"
   ]
  },
  {
   "cell_type": "code",
   "execution_count": 10,
   "metadata": {},
   "outputs": [
    {
     "name": "stdout",
     "output_type": "stream",
     "text": [
      "42 é divisível por 3\n"
     ]
    }
   ],
   "source": [
    "# exercicio 3\n",
    "N = 42\n",
    "M = 7\n",
    "\n",
    "if N % M == 0:\n",
    "    print(N, \"é divisível por\", P)\n",
    "else:\n",
    "    print(N, \"não é divisível por\", P)\n"
   ]
  },
  {
   "cell_type": "code",
   "execution_count": 11,
   "metadata": {},
   "outputs": [
    {
     "name": "stdout",
     "output_type": "stream",
     "text": [
      "Digite um número inteiro positivo: 1\n",
      "1 é um número primo\n"
     ]
    }
   ],
   "source": [
    "# exercicio 4\n",
    "N = int(input(\"Digite um número inteiro positivo: \"))\n",
    "\n",
    "primo = True\n",
    "\n",
    "for i in range(2, N):\n",
    "    if N % i == 0:\n",
    "        primo = False\n",
    "        break\n",
    "\n",
    "if primo:\n",
    "    print(N, \"é um número primo\")\n",
    "else:\n",
    "    print(N, \"não é um número primo\")\n"
   ]
  },
  {
   "cell_type": "code",
   "execution_count": 12,
   "metadata": {},
   "outputs": [
    {
     "name": "stdout",
     "output_type": "stream",
     "text": [
      "Digite um número inteiro positivo: 98\n",
      "98 não é um número primo\n"
     ]
    }
   ],
   "source": [
    "# exercicio 5\n",
    "N = int(input(\"Digite um número inteiro positivo: \"))\n",
    "\n",
    "primo = True\n",
    "\n",
    "for i in range(2, N):\n",
    "    if N % i == 0:\n",
    "        primo = False\n",
    "        break\n",
    "\n",
    "if primo:\n",
    "    print(N, \"é um número primo\")\n",
    "else:\n",
    "    print(N, \"não é um número primo\")\n"
   ]
  },
  {
   "cell_type": "code",
   "execution_count": 13,
   "metadata": {},
   "outputs": [
    {
     "data": {
      "text/plain": [
       "21.7"
      ]
     },
     "execution_count": 13,
     "metadata": {},
     "output_type": "execute_result"
    }
   ],
   "source": [
    "# exercicio 6\n",
    "# encontrando o ponto medio\n",
    "imc_ideal = (18.5 + 24.9)/2\n",
    "imc_ideal"
   ]
  },
  {
   "cell_type": "code",
   "execution_count": 24,
   "metadata": {},
   "outputs": [
    {
     "name": "stdout",
     "output_type": "stream",
     "text": [
      "68.75\n"
     ]
    }
   ],
   "source": [
    "# exercicio 7\n",
    "# encontrando peso ideal\n",
    "A = 1.78\n",
    "imc_ideal = 21.7\n",
    "peso_ideal = (21.7*1.78**2)\n",
    "print (round(peso_ideal, 2))"
   ]
  },
  {
   "cell_type": "code",
   "execution_count": 27,
   "metadata": {},
   "outputs": [
    {
     "name": "stdout",
     "output_type": "stream",
     "text": [
      "[82.51, 91.19, 62.71, 59.08]\n"
     ]
    }
   ],
   "source": [
    "# exercicio 8\n",
    "lista_alturas = [1.95, 2.05, 1.70, 1.65]\n",
    "imc = 21.7\n",
    "lista_peso_ideal = []\n",
    "\n",
    "for altura in lista_alturas:\n",
    "    lista_peso = imc * altura**2\n",
    "    lista_peso_ideal.append(round(lista_peso, 2))\n",
    "print (lista_peso_ideal)    "
   ]
  },
  {
   "cell_type": "code",
   "execution_count": 55,
   "metadata": {},
   "outputs": [
    {
     "name": "stdout",
     "output_type": "stream",
     "text": [
      "[27.78, 25.71, 16.45]\n"
     ]
    }
   ],
   "source": [
    " # exercicio 9\n",
    "altura_peso =[(1.80, 90), (1.65, 70), (1.91, 60)]\n",
    "imc = [round((peso / altura**2), 2) for altura, peso in altura_peso]\n",
    "\n",
    "print(imc)"
   ]
  },
  {
   "cell_type": "code",
   "execution_count": 60,
   "metadata": {},
   "outputs": [
    {
     "name": "stdout",
     "output_type": "stream",
     "text": [
      "O paciente com altura 1.80 e peso 90 tem IMC alto.\n",
      "O paciente com altura 1.65 e peso 75 tem IMC alto.\n",
      "O paciente com altura 1.91 e peso 70 tem IMC normal.\n",
      "O paciente com altura 1.90 e peso 69 tem IMC normal.\n"
     ]
    }
   ],
   "source": [
    "# exercicio 10\n",
    "altura_pesos = [[1.80, 90], [1.65, 75], [1.91, 70], [1.90, 69]]\n",
    "\n",
    "for altura_peso in altura_pesos:\n",
    "    altura = altura_peso[0]\n",
    "    peso = altura_peso[1]\n",
    "    imc = peso / altura ** 2\n",
    "    altura_peso.append(imc)\n",
    "    \n",
    "    if imc < 18.5:\n",
    "        print(f'O paciente com altura {altura:.2f} e peso {peso} tem IMC baixo.')\n",
    "    elif 18.5 <= imc <= 24.9:\n",
    "        print(f'O paciente com altura {altura:.2f} e peso {peso} tem IMC normal.')\n",
    "    else:\n",
    "        print(f'O paciente com altura {altura:.2f} e peso {peso} tem IMC alto.')\n"
   ]
  },
  {
   "cell_type": "code",
   "execution_count": null,
   "metadata": {},
   "outputs": [],
   "source": []
  }
 ],
 "metadata": {
  "kernelspec": {
   "display_name": "Python 3",
   "language": "python",
   "name": "python3"
  },
  "language_info": {
   "codemirror_mode": {
    "name": "ipython",
    "version": 3
   },
   "file_extension": ".py",
   "mimetype": "text/x-python",
   "name": "python",
   "nbconvert_exporter": "python",
   "pygments_lexer": "ipython3",
   "version": "3.8.5"
  }
 },
 "nbformat": 4,
 "nbformat_minor": 4
}
